{
 "cells": [
  {
   "cell_type": "markdown",
   "metadata": {},
   "source": [
    "# Let's try some learnning models"
   ]
  },
  {
   "cell_type": "code",
   "execution_count": 2,
   "metadata": {},
   "outputs": [],
   "source": [
    "%matplotlib inline\n",
    "import pandas as pd\n",
    "import numpy as np\n",
    "import seaborn as sns\n",
    "import matplotlib.pyplot as plt\n",
    "\n",
    "from sklearn.model_selection import train_test_split,KFold,cross_val_score,ShuffleSplit\n",
    "#models\n",
    "from sklearn.neighbors import KNeighborsClassifier\n",
    "from sklearn import svm\n",
    "from sklearn.linear_model import LogisticRegression\n",
    "from sklearn.neural_network import MLPClassifier\n",
    "from sklearn.naive_bayes import GaussianNB\n",
    "from sklearn.ensemble import RandomForestClassifier\n",
    "from sklearn.ensemble import AdaBoostClassifier\n",
    "#evaluation\n",
    "from sklearn import metrics\n",
    "from sklearn.metrics import classification_report,confusion_matrix\n",
    "from sklearn.tree import DecisionTreeClassifier\n",
    "#ignore warnings\n",
    "import warnings\n",
    "warnings.filterwarnings('ignore')"
   ]
  },
  {
   "cell_type": "code",
   "execution_count": 3,
   "metadata": {},
   "outputs": [
    {
     "data": {
      "text/html": [
       "<div>\n",
       "<style scoped>\n",
       "    .dataframe tbody tr th:only-of-type {\n",
       "        vertical-align: middle;\n",
       "    }\n",
       "\n",
       "    .dataframe tbody tr th {\n",
       "        vertical-align: top;\n",
       "    }\n",
       "\n",
       "    .dataframe thead th {\n",
       "        text-align: right;\n",
       "    }\n",
       "</style>\n",
       "<table border=\"1\" class=\"dataframe\">\n",
       "  <thead>\n",
       "    <tr style=\"text-align: right;\">\n",
       "      <th></th>\n",
       "      <th>App</th>\n",
       "      <th>Category</th>\n",
       "      <th>Rating</th>\n",
       "      <th>Reviews</th>\n",
       "      <th>Size</th>\n",
       "      <th>Installs</th>\n",
       "      <th>Type</th>\n",
       "      <th>Price</th>\n",
       "      <th>Content Rating</th>\n",
       "      <th>Genres</th>\n",
       "      <th>Last Updated</th>\n",
       "      <th>Current Ver</th>\n",
       "      <th>Android Ver</th>\n",
       "    </tr>\n",
       "  </thead>\n",
       "  <tbody>\n",
       "    <tr>\n",
       "      <td>0</td>\n",
       "      <td>Photo Editor &amp; Candy Camera &amp; Grid &amp; ScrapBook</td>\n",
       "      <td>ART_AND_DESIGN</td>\n",
       "      <td>4.1</td>\n",
       "      <td>159</td>\n",
       "      <td>19M</td>\n",
       "      <td>10,000+</td>\n",
       "      <td>Free</td>\n",
       "      <td>0</td>\n",
       "      <td>Everyone</td>\n",
       "      <td>Art &amp; Design</td>\n",
       "      <td>January 7, 2018</td>\n",
       "      <td>1.0.0</td>\n",
       "      <td>4.0.3 and up</td>\n",
       "    </tr>\n",
       "    <tr>\n",
       "      <td>1</td>\n",
       "      <td>Coloring book moana</td>\n",
       "      <td>ART_AND_DESIGN</td>\n",
       "      <td>3.9</td>\n",
       "      <td>967</td>\n",
       "      <td>14M</td>\n",
       "      <td>500,000+</td>\n",
       "      <td>Free</td>\n",
       "      <td>0</td>\n",
       "      <td>Everyone</td>\n",
       "      <td>Art &amp; Design;Pretend Play</td>\n",
       "      <td>January 15, 2018</td>\n",
       "      <td>2.0.0</td>\n",
       "      <td>4.0.3 and up</td>\n",
       "    </tr>\n",
       "    <tr>\n",
       "      <td>2</td>\n",
       "      <td>U Launcher Lite – FREE Live Cool Themes, Hide ...</td>\n",
       "      <td>ART_AND_DESIGN</td>\n",
       "      <td>4.7</td>\n",
       "      <td>87510</td>\n",
       "      <td>8.7M</td>\n",
       "      <td>5,000,000+</td>\n",
       "      <td>Free</td>\n",
       "      <td>0</td>\n",
       "      <td>Everyone</td>\n",
       "      <td>Art &amp; Design</td>\n",
       "      <td>August 1, 2018</td>\n",
       "      <td>1.2.4</td>\n",
       "      <td>4.0.3 and up</td>\n",
       "    </tr>\n",
       "    <tr>\n",
       "      <td>3</td>\n",
       "      <td>Sketch - Draw &amp; Paint</td>\n",
       "      <td>ART_AND_DESIGN</td>\n",
       "      <td>4.5</td>\n",
       "      <td>215644</td>\n",
       "      <td>25M</td>\n",
       "      <td>50,000,000+</td>\n",
       "      <td>Free</td>\n",
       "      <td>0</td>\n",
       "      <td>Teen</td>\n",
       "      <td>Art &amp; Design</td>\n",
       "      <td>June 8, 2018</td>\n",
       "      <td>Varies with device</td>\n",
       "      <td>4.2 and up</td>\n",
       "    </tr>\n",
       "    <tr>\n",
       "      <td>4</td>\n",
       "      <td>Pixel Draw - Number Art Coloring Book</td>\n",
       "      <td>ART_AND_DESIGN</td>\n",
       "      <td>4.3</td>\n",
       "      <td>967</td>\n",
       "      <td>2.8M</td>\n",
       "      <td>100,000+</td>\n",
       "      <td>Free</td>\n",
       "      <td>0</td>\n",
       "      <td>Everyone</td>\n",
       "      <td>Art &amp; Design;Creativity</td>\n",
       "      <td>June 20, 2018</td>\n",
       "      <td>1.1</td>\n",
       "      <td>4.4 and up</td>\n",
       "    </tr>\n",
       "  </tbody>\n",
       "</table>\n",
       "</div>"
      ],
      "text/plain": [
       "                                                 App        Category  Rating  \\\n",
       "0     Photo Editor & Candy Camera & Grid & ScrapBook  ART_AND_DESIGN     4.1   \n",
       "1                                Coloring book moana  ART_AND_DESIGN     3.9   \n",
       "2  U Launcher Lite – FREE Live Cool Themes, Hide ...  ART_AND_DESIGN     4.7   \n",
       "3                              Sketch - Draw & Paint  ART_AND_DESIGN     4.5   \n",
       "4              Pixel Draw - Number Art Coloring Book  ART_AND_DESIGN     4.3   \n",
       "\n",
       "  Reviews  Size     Installs  Type Price Content Rating  \\\n",
       "0     159   19M      10,000+  Free     0       Everyone   \n",
       "1     967   14M     500,000+  Free     0       Everyone   \n",
       "2   87510  8.7M   5,000,000+  Free     0       Everyone   \n",
       "3  215644   25M  50,000,000+  Free     0           Teen   \n",
       "4     967  2.8M     100,000+  Free     0       Everyone   \n",
       "\n",
       "                      Genres      Last Updated         Current Ver  \\\n",
       "0               Art & Design   January 7, 2018               1.0.0   \n",
       "1  Art & Design;Pretend Play  January 15, 2018               2.0.0   \n",
       "2               Art & Design    August 1, 2018               1.2.4   \n",
       "3               Art & Design      June 8, 2018  Varies with device   \n",
       "4    Art & Design;Creativity     June 20, 2018                 1.1   \n",
       "\n",
       "    Android Ver  \n",
       "0  4.0.3 and up  \n",
       "1  4.0.3 and up  \n",
       "2  4.0.3 and up  \n",
       "3    4.2 and up  \n",
       "4    4.4 and up  "
      ]
     },
     "execution_count": 3,
     "metadata": {},
     "output_type": "execute_result"
    }
   ],
   "source": [
    "df = pd.read_csv('googleplaystore.csv')\n",
    "df.head()"
   ]
  },
  {
   "cell_type": "markdown",
   "metadata": {},
   "source": [
    "# Some explain of data fields\n",
    "**App** - application name<br><br>\n",
    "**Category** - general category of the app<br><br>\n",
    "**Rating** - star rate(from 0 to 5)<br><br>\n",
    "**Reviews** - number of Reviews<br><br>\n",
    "**Size** - the size of the app in mb<br><br>\n",
    "**Installs** - number of install(approximately)<br><br>\n",
    "**Type** - is the app in free or not(paid)<br><br>\n",
    "**Price** - the price in of the app<br><br>\n",
    "**Content Rating** - Target Audience<br><br>\n",
    "**Genres** - spesific genre(category) of the app<br><br>\n",
    "**Last Updated** - date of the last update<br><br>\n",
    "**Current Ver** - current version of the app<br><br>\n",
    "**Android Ver** - minmum android version that the app support<br><br>"
   ]
  },
  {
   "cell_type": "markdown",
   "metadata": {},
   "source": [
    "# Prepare the Data"
   ]
  },
  {
   "cell_type": "code",
   "execution_count": 4,
   "metadata": {},
   "outputs": [
    {
     "name": "stdout",
     "output_type": "stream",
     "text": [
      "<class 'pandas.core.frame.DataFrame'>\n",
      "RangeIndex: 10841 entries, 0 to 10840\n",
      "Data columns (total 13 columns):\n",
      "App               10841 non-null object\n",
      "Category          10841 non-null object\n",
      "Rating            9367 non-null float64\n",
      "Reviews           10841 non-null object\n",
      "Size              10841 non-null object\n",
      "Installs          10841 non-null object\n",
      "Type              10840 non-null object\n",
      "Price             10841 non-null object\n",
      "Content Rating    10840 non-null object\n",
      "Genres            10841 non-null object\n",
      "Last Updated      10841 non-null object\n",
      "Current Ver       10833 non-null object\n",
      "Android Ver       10838 non-null object\n",
      "dtypes: float64(1), object(12)\n",
      "memory usage: 1.1+ MB\n"
     ]
    }
   ],
   "source": [
    "#SUCCESS_RATE = 4.5\n",
    "#MIN_REVIEWS_NUMBER = 1000\n",
    "NUM_INSTALL_TO_SUCCESS_STATE = 5000000\n",
    "NUM_INSTALL_TO_GOOD_RATE = 20000\n",
    "df.info()"
   ]
  },
  {
   "cell_type": "code",
   "execution_count": 5,
   "metadata": {},
   "outputs": [
    {
     "name": "stdout",
     "output_type": "stream",
     "text": [
      "<class 'pandas.core.frame.DataFrame'>\n",
      "Int64Index: 10840 entries, 0 to 10840\n",
      "Data columns (total 13 columns):\n",
      "App               10840 non-null object\n",
      "Category          10840 non-null object\n",
      "Rating            9366 non-null float64\n",
      "Reviews           10840 non-null object\n",
      "Size              10840 non-null object\n",
      "Installs          10840 non-null int64\n",
      "Type              10839 non-null object\n",
      "Price             10840 non-null object\n",
      "Content Rating    10840 non-null object\n",
      "Genres            10840 non-null object\n",
      "Last Updated      10840 non-null object\n",
      "Current Ver       10832 non-null object\n",
      "Android Ver       10838 non-null object\n",
      "dtypes: float64(1), int64(1), object(11)\n",
      "memory usage: 1.2+ MB\n"
     ]
    }
   ],
   "source": [
    "df.Installs = df.Installs.str.replace(\",\", \"\")\n",
    "df.Installs = df.Installs.str.replace(\"+\", \"\")\n",
    "df = df[df[\"Installs\"]!='Free']\n",
    "df[\"Installs\"] = pd.to_numeric(df[\"Installs\"])\n",
    "df.info()"
   ]
  },
  {
   "cell_type": "code",
   "execution_count": 6,
   "metadata": {},
   "outputs": [
    {
     "data": {
      "text/html": [
       "<div>\n",
       "<style scoped>\n",
       "    .dataframe tbody tr th:only-of-type {\n",
       "        vertical-align: middle;\n",
       "    }\n",
       "\n",
       "    .dataframe tbody tr th {\n",
       "        vertical-align: top;\n",
       "    }\n",
       "\n",
       "    .dataframe thead th {\n",
       "        text-align: right;\n",
       "    }\n",
       "</style>\n",
       "<table border=\"1\" class=\"dataframe\">\n",
       "  <thead>\n",
       "    <tr style=\"text-align: right;\">\n",
       "      <th></th>\n",
       "      <th>App</th>\n",
       "      <th>Category</th>\n",
       "      <th>Rating</th>\n",
       "      <th>Reviews</th>\n",
       "      <th>Size</th>\n",
       "      <th>Installs</th>\n",
       "      <th>Type</th>\n",
       "      <th>Price</th>\n",
       "      <th>Content Rating</th>\n",
       "      <th>Genres</th>\n",
       "      <th>Last Updated</th>\n",
       "      <th>Current Ver</th>\n",
       "      <th>Android Ver</th>\n",
       "    </tr>\n",
       "  </thead>\n",
       "  <tbody>\n",
       "    <tr>\n",
       "      <td>2544</td>\n",
       "      <td>Facebook</td>\n",
       "      <td>SOCIAL</td>\n",
       "      <td>4.1</td>\n",
       "      <td>78158306</td>\n",
       "      <td>100000.0</td>\n",
       "      <td>1000000000</td>\n",
       "      <td>Free</td>\n",
       "      <td>0</td>\n",
       "      <td>Teen</td>\n",
       "      <td>Social</td>\n",
       "      <td>August 3, 2018</td>\n",
       "      <td>Varies with device</td>\n",
       "      <td>Varies with device</td>\n",
       "    </tr>\n",
       "    <tr>\n",
       "      <td>3943</td>\n",
       "      <td>Facebook</td>\n",
       "      <td>SOCIAL</td>\n",
       "      <td>4.1</td>\n",
       "      <td>78128208</td>\n",
       "      <td>100000.0</td>\n",
       "      <td>1000000000</td>\n",
       "      <td>Free</td>\n",
       "      <td>0</td>\n",
       "      <td>Teen</td>\n",
       "      <td>Social</td>\n",
       "      <td>August 3, 2018</td>\n",
       "      <td>Varies with device</td>\n",
       "      <td>Varies with device</td>\n",
       "    </tr>\n",
       "  </tbody>\n",
       "</table>\n",
       "</div>"
      ],
      "text/plain": [
       "           App Category  Rating   Reviews      Size    Installs  Type Price  \\\n",
       "2544  Facebook   SOCIAL     4.1  78158306  100000.0  1000000000  Free     0   \n",
       "3943  Facebook   SOCIAL     4.1  78128208  100000.0  1000000000  Free     0   \n",
       "\n",
       "     Content Rating  Genres    Last Updated         Current Ver  \\\n",
       "2544           Teen  Social  August 3, 2018  Varies with device   \n",
       "3943           Teen  Social  August 3, 2018  Varies with device   \n",
       "\n",
       "             Android Ver  \n",
       "2544  Varies with device  \n",
       "3943  Varies with device  "
      ]
     },
     "execution_count": 6,
     "metadata": {},
     "output_type": "execute_result"
    }
   ],
   "source": [
    "milions = df[df['Size'].str.contains('M')]\n",
    "ks = df[df['Size'].str.contains('k')]\n",
    "other = df[((df['Size'].str.contains('k'))|df['Size'].str.contains('M'))==False]\n",
    "milions.Size = df.Size.str.replace(\"M\", \"\")\n",
    "milions[\"Size\"] = pd.to_numeric(milions[\"Installs\"])\n",
    "ks[\"Size\"] = pd.to_numeric(ks[\"Installs\"])\n",
    "df = pd.concat([milions,ks])\n",
    "other['Size'] = df['Size'].median()\n",
    "df = pd.concat([other,df])\n",
    "df"
   ]
  },
  {
   "cell_type": "code",
   "execution_count": 43,
   "metadata": {},
   "outputs": [
    {
     "data": {
      "text/plain": [
       "App                  0\n",
       "Category             0\n",
       "Rating            1473\n",
       "Reviews              0\n",
       "Size                 0\n",
       "Installs             0\n",
       "Type                 0\n",
       "Price                0\n",
       "Content Rating       0\n",
       "Genres               0\n",
       "Last Updated         0\n",
       "Current Ver          8\n",
       "Android Ver          2\n",
       "dtype: int64"
      ]
     },
     "execution_count": 43,
     "metadata": {},
     "output_type": "execute_result"
    }
   ],
   "source": [
    "df = df.dropna(axis=0, subset=['Type'])#delete one row\n",
    "df.isna().sum()"
   ]
  },
  {
   "cell_type": "code",
   "execution_count": 44,
   "metadata": {},
   "outputs": [
    {
     "data": {
      "text/plain": [
       "<matplotlib.axes._subplots.AxesSubplot at 0x2ae5cef0648>"
      ]
     },
     "execution_count": 44,
     "metadata": {},
     "output_type": "execute_result"
    },
    {
     "data": {
      "image/png": "[encoded data removed]",
      "text/plain": [
       "<Figure size 432x288 with 1 Axes>"
      ]
     },
     "metadata": {
      "needs_background": "light"
     },
     "output_type": "display_data"
    }
   ],
   "source": [
    "df['Type'].value_counts().plot(kind='bar')"
   ]
  },
  {
   "cell_type": "code",
   "execution_count": 45,
   "metadata": {},
   "outputs": [
    {
     "name": "stdout",
     "output_type": "stream",
     "text": [
      "['Free' 'Paid']\n"
     ]
    }
   ],
   "source": [
    "print(df['Type'].unique())\n",
    "df.loc[df['Type']=='Free','Type']=0\n",
    "df.loc[df['Type']=='Paid','Type']=1"
   ]
  },
  {
   "cell_type": "code",
   "execution_count": 46,
   "metadata": {},
   "outputs": [],
   "source": [
    "df.Category = pd.Categorical(df.Category)\n",
    "df['Category_code'] = df.Category.cat.codes"
   ]
  },
  {
   "cell_type": "code",
   "execution_count": 47,
   "metadata": {},
   "outputs": [
    {
     "data": {
      "text/html": [
       "<div>\n",
       "<style scoped>\n",
       "    .dataframe tbody tr th:only-of-type {\n",
       "        vertical-align: middle;\n",
       "    }\n",
       "\n",
       "    .dataframe tbody tr th {\n",
       "        vertical-align: top;\n",
       "    }\n",
       "\n",
       "    .dataframe thead th {\n",
       "        text-align: right;\n",
       "    }\n",
       "</style>\n",
       "<table border=\"1\" class=\"dataframe\">\n",
       "  <thead>\n",
       "    <tr style=\"text-align: right;\">\n",
       "      <th></th>\n",
       "      <th>App</th>\n",
       "      <th>Category</th>\n",
       "      <th>Rating</th>\n",
       "      <th>Reviews</th>\n",
       "      <th>Size</th>\n",
       "      <th>Installs</th>\n",
       "      <th>Type</th>\n",
       "      <th>Price</th>\n",
       "      <th>Content Rating</th>\n",
       "      <th>Genres</th>\n",
       "      <th>Last Updated</th>\n",
       "      <th>Current Ver</th>\n",
       "      <th>Android Ver</th>\n",
       "      <th>Category_code</th>\n",
       "      <th>success</th>\n",
       "    </tr>\n",
       "  </thead>\n",
       "  <tbody>\n",
       "    <tr>\n",
       "      <td>37</td>\n",
       "      <td>Floor Plan Creator</td>\n",
       "      <td>ART_AND_DESIGN</td>\n",
       "      <td>4.1</td>\n",
       "      <td>36639</td>\n",
       "      <td>100000.0</td>\n",
       "      <td>5000000</td>\n",
       "      <td>0</td>\n",
       "      <td>0</td>\n",
       "      <td>Everyone</td>\n",
       "      <td>Art &amp; Design</td>\n",
       "      <td>July 14, 2018</td>\n",
       "      <td>Varies with device</td>\n",
       "      <td>2.3.3 and up</td>\n",
       "      <td>0</td>\n",
       "      <td>2</td>\n",
       "    </tr>\n",
       "    <tr>\n",
       "      <td>42</td>\n",
       "      <td>Textgram - write on photos</td>\n",
       "      <td>ART_AND_DESIGN</td>\n",
       "      <td>4.4</td>\n",
       "      <td>295221</td>\n",
       "      <td>100000.0</td>\n",
       "      <td>10000000</td>\n",
       "      <td>0</td>\n",
       "      <td>0</td>\n",
       "      <td>Everyone</td>\n",
       "      <td>Art &amp; Design</td>\n",
       "      <td>July 30, 2018</td>\n",
       "      <td>Varies with device</td>\n",
       "      <td>Varies with device</td>\n",
       "      <td>0</td>\n",
       "      <td>2</td>\n",
       "    </tr>\n",
       "    <tr>\n",
       "      <td>52</td>\n",
       "      <td>Used Cars and Trucks for Sale</td>\n",
       "      <td>AUTO_AND_VEHICLES</td>\n",
       "      <td>4.6</td>\n",
       "      <td>17057</td>\n",
       "      <td>100000.0</td>\n",
       "      <td>1000000</td>\n",
       "      <td>0</td>\n",
       "      <td>0</td>\n",
       "      <td>Everyone</td>\n",
       "      <td>Auto &amp; Vehicles</td>\n",
       "      <td>July 30, 2018</td>\n",
       "      <td>Varies with device</td>\n",
       "      <td>Varies with device</td>\n",
       "      <td>1</td>\n",
       "      <td>1</td>\n",
       "    </tr>\n",
       "    <tr>\n",
       "      <td>67</td>\n",
       "      <td>Ulysse Speedometer</td>\n",
       "      <td>AUTO_AND_VEHICLES</td>\n",
       "      <td>4.3</td>\n",
       "      <td>40211</td>\n",
       "      <td>100000.0</td>\n",
       "      <td>5000000</td>\n",
       "      <td>0</td>\n",
       "      <td>0</td>\n",
       "      <td>Everyone</td>\n",
       "      <td>Auto &amp; Vehicles</td>\n",
       "      <td>July 30, 2018</td>\n",
       "      <td>Varies with device</td>\n",
       "      <td>Varies with device</td>\n",
       "      <td>1</td>\n",
       "      <td>2</td>\n",
       "    </tr>\n",
       "    <tr>\n",
       "      <td>68</td>\n",
       "      <td>REPUVE</td>\n",
       "      <td>AUTO_AND_VEHICLES</td>\n",
       "      <td>3.9</td>\n",
       "      <td>356</td>\n",
       "      <td>100000.0</td>\n",
       "      <td>100000</td>\n",
       "      <td>0</td>\n",
       "      <td>0</td>\n",
       "      <td>Everyone</td>\n",
       "      <td>Auto &amp; Vehicles</td>\n",
       "      <td>May 25, 2018</td>\n",
       "      <td>Varies with device</td>\n",
       "      <td>Varies with device</td>\n",
       "      <td>1</td>\n",
       "      <td>1</td>\n",
       "    </tr>\n",
       "    <tr>\n",
       "      <td>...</td>\n",
       "      <td>...</td>\n",
       "      <td>...</td>\n",
       "      <td>...</td>\n",
       "      <td>...</td>\n",
       "      <td>...</td>\n",
       "      <td>...</td>\n",
       "      <td>...</td>\n",
       "      <td>...</td>\n",
       "      <td>...</td>\n",
       "      <td>...</td>\n",
       "      <td>...</td>\n",
       "      <td>...</td>\n",
       "      <td>...</td>\n",
       "      <td>...</td>\n",
       "      <td>...</td>\n",
       "    </tr>\n",
       "    <tr>\n",
       "      <td>10763</td>\n",
       "      <td>FP Разбитый дисплей</td>\n",
       "      <td>FAMILY</td>\n",
       "      <td>4.5</td>\n",
       "      <td>922</td>\n",
       "      <td>50000.0</td>\n",
       "      <td>50000</td>\n",
       "      <td>0</td>\n",
       "      <td>0</td>\n",
       "      <td>Everyone</td>\n",
       "      <td>Entertainment</td>\n",
       "      <td>September 20, 2014</td>\n",
       "      <td>1.1</td>\n",
       "      <td>1.6 and up</td>\n",
       "      <td>11</td>\n",
       "      <td>1</td>\n",
       "    </tr>\n",
       "    <tr>\n",
       "      <td>10764</td>\n",
       "      <td>FP Transportation</td>\n",
       "      <td>AUTO_AND_VEHICLES</td>\n",
       "      <td>NaN</td>\n",
       "      <td>1</td>\n",
       "      <td>1.0</td>\n",
       "      <td>1</td>\n",
       "      <td>0</td>\n",
       "      <td>0</td>\n",
       "      <td>Everyone</td>\n",
       "      <td>Auto &amp; Vehicles</td>\n",
       "      <td>March 9, 2018</td>\n",
       "      <td>10.0.0</td>\n",
       "      <td>4.0 and up</td>\n",
       "      <td>1</td>\n",
       "      <td>0</td>\n",
       "    </tr>\n",
       "    <tr>\n",
       "      <td>10798</td>\n",
       "      <td>Word Search Tab 1 FR</td>\n",
       "      <td>FAMILY</td>\n",
       "      <td>NaN</td>\n",
       "      <td>0</td>\n",
       "      <td>50.0</td>\n",
       "      <td>50</td>\n",
       "      <td>1</td>\n",
       "      <td>$1.04</td>\n",
       "      <td>Everyone</td>\n",
       "      <td>Puzzle</td>\n",
       "      <td>February 6, 2012</td>\n",
       "      <td>1.1</td>\n",
       "      <td>3.0 and up</td>\n",
       "      <td>11</td>\n",
       "      <td>0</td>\n",
       "    </tr>\n",
       "    <tr>\n",
       "      <td>10832</td>\n",
       "      <td>FR Tides</td>\n",
       "      <td>WEATHER</td>\n",
       "      <td>3.8</td>\n",
       "      <td>1195</td>\n",
       "      <td>100000.0</td>\n",
       "      <td>100000</td>\n",
       "      <td>0</td>\n",
       "      <td>0</td>\n",
       "      <td>Everyone</td>\n",
       "      <td>Weather</td>\n",
       "      <td>February 16, 2014</td>\n",
       "      <td>6.0</td>\n",
       "      <td>2.1 and up</td>\n",
       "      <td>32</td>\n",
       "      <td>1</td>\n",
       "    </tr>\n",
       "    <tr>\n",
       "      <td>10833</td>\n",
       "      <td>Chemin (fr)</td>\n",
       "      <td>BOOKS_AND_REFERENCE</td>\n",
       "      <td>4.8</td>\n",
       "      <td>44</td>\n",
       "      <td>1000.0</td>\n",
       "      <td>1000</td>\n",
       "      <td>0</td>\n",
       "      <td>0</td>\n",
       "      <td>Everyone</td>\n",
       "      <td>Books &amp; Reference</td>\n",
       "      <td>March 23, 2014</td>\n",
       "      <td>0.8</td>\n",
       "      <td>2.2 and up</td>\n",
       "      <td>3</td>\n",
       "      <td>0</td>\n",
       "    </tr>\n",
       "  </tbody>\n",
       "</table>\n",
       "<p>10839 rows × 15 columns</p>\n",
       "</div>"
      ],
      "text/plain": [
       "                                 App             Category  Rating Reviews  \\\n",
       "37                Floor Plan Creator       ART_AND_DESIGN     4.1   36639   \n",
       "42        Textgram - write on photos       ART_AND_DESIGN     4.4  295221   \n",
       "52     Used Cars and Trucks for Sale    AUTO_AND_VEHICLES     4.6   17057   \n",
       "67                Ulysse Speedometer    AUTO_AND_VEHICLES     4.3   40211   \n",
       "68                            REPUVE    AUTO_AND_VEHICLES     3.9     356   \n",
       "...                              ...                  ...     ...     ...   \n",
       "10763            FP Разбитый дисплей               FAMILY     4.5     922   \n",
       "10764              FP Transportation    AUTO_AND_VEHICLES     NaN       1   \n",
       "10798           Word Search Tab 1 FR               FAMILY     NaN       0   \n",
       "10832                       FR Tides              WEATHER     3.8    1195   \n",
       "10833                    Chemin (fr)  BOOKS_AND_REFERENCE     4.8      44   \n",
       "\n",
       "           Size  Installs  Type  Price Content Rating             Genres  \\\n",
       "37     100000.0   5000000     0      0       Everyone       Art & Design   \n",
       "42     100000.0  10000000     0      0       Everyone       Art & Design   \n",
       "52     100000.0   1000000     0      0       Everyone    Auto & Vehicles   \n",
       "67     100000.0   5000000     0      0       Everyone    Auto & Vehicles   \n",
       "68     100000.0    100000     0      0       Everyone    Auto & Vehicles   \n",
       "...         ...       ...   ...    ...            ...                ...   \n",
       "10763   50000.0     50000     0      0       Everyone      Entertainment   \n",
       "10764       1.0         1     0      0       Everyone    Auto & Vehicles   \n",
       "10798      50.0        50     1  $1.04       Everyone             Puzzle   \n",
       "10832  100000.0    100000     0      0       Everyone            Weather   \n",
       "10833    1000.0      1000     0      0       Everyone  Books & Reference   \n",
       "\n",
       "             Last Updated         Current Ver         Android Ver  \\\n",
       "37          July 14, 2018  Varies with device        2.3.3 and up   \n",
       "42          July 30, 2018  Varies with device  Varies with device   \n",
       "52          July 30, 2018  Varies with device  Varies with device   \n",
       "67          July 30, 2018  Varies with device  Varies with device   \n",
       "68           May 25, 2018  Varies with device  Varies with device   \n",
       "...                   ...                 ...                 ...   \n",
       "10763  September 20, 2014                 1.1          1.6 and up   \n",
       "10764       March 9, 2018              10.0.0          4.0 and up   \n",
       "10798    February 6, 2012                 1.1          3.0 and up   \n",
       "10832   February 16, 2014                 6.0          2.1 and up   \n",
       "10833      March 23, 2014                 0.8          2.2 and up   \n",
       "\n",
       "       Category_code  success  \n",
       "37                 0        2  \n",
       "42                 0        2  \n",
       "52                 1        1  \n",
       "67                 1        2  \n",
       "68                 1        1  \n",
       "...              ...      ...  \n",
       "10763             11        1  \n",
       "10764              1        0  \n",
       "10798             11        0  \n",
       "10832             32        1  \n",
       "10833              3        0  \n",
       "\n",
       "[10839 rows x 15 columns]"
      ]
     },
     "execution_count": 47,
     "metadata": {},
     "output_type": "execute_result"
    }
   ],
   "source": [
    "df['success'] = 0\n",
    "df.loc[df['Installs']>=NUM_INSTALL_TO_GOOD_RATE,'success']=1\n",
    "df.loc[df['Installs']>=NUM_INSTALL_TO_SUCCESS_STATE,'success']=2\n",
    "df.loc[df['Installs']<NUM_INSTALL_TO_GOOD_RATE ,'success']=0\n",
    "df"
   ]
  },
  {
   "cell_type": "code",
   "execution_count": 48,
   "metadata": {},
   "outputs": [
    {
     "data": {
      "text/plain": [
       "<matplotlib.axes._subplots.AxesSubplot at 0x2ae5cf39c08>"
      ]
     },
     "execution_count": 48,
     "metadata": {},
     "output_type": "execute_result"
    },
    {
     "data": {
      "image/png": "[encoded data removed]",
      "text/plain": [
       "<Figure size 360x360 with 1 Axes>"
      ]
     },
     "metadata": {},
     "output_type": "display_data"
    }
   ],
   "source": [
    "df['Content Rating'].value_counts().plot.pie(y=df['Content Rating'].value_counts(), figsize=(5, 5))"
   ]
  },
  {
   "cell_type": "code",
   "execution_count": 49,
   "metadata": {},
   "outputs": [
    {
     "name": "stdout",
     "output_type": "stream",
     "text": [
      "['Everyone' 'Teen' 'Mature 17+' 'Everyone 10+' 'Adults only 18+' 'Unrated']\n"
     ]
    }
   ],
   "source": [
    "print(df['Content Rating'].unique())\n",
    "df['Content Rating'] = pd.Categorical(df['Content Rating'])\n",
    "df['Content Rating'] = df['Content Rating'].cat.codes"
   ]
  },
  {
   "cell_type": "code",
   "execution_count": 50,
   "metadata": {},
   "outputs": [
    {
     "data": {
      "text/plain": [
       "<matplotlib.axes._subplots.AxesSubplot at 0x2ae5cc8d388>"
      ]
     },
     "execution_count": 50,
     "metadata": {},
     "output_type": "execute_result"
    },
    {
     "data": {
      "image/png": "[encoded data removed]",
      "text/plain": [
       "<Figure size 432x288 with 1 Axes>"
      ]
     },
     "metadata": {
      "needs_background": "light"
     },
     "output_type": "display_data"
    }
   ],
   "source": [
    "df['success'].value_counts().plot(kind='bar')"
   ]
  },
  {
   "cell_type": "code",
   "execution_count": 51,
   "metadata": {},
   "outputs": [
    {
     "data": {
      "text/plain": [
       "<matplotlib.axes._subplots.AxesSubplot at 0x2ae5c869b88>"
      ]
     },
     "execution_count": 51,
     "metadata": {},
     "output_type": "execute_result"
    },
    {
     "data": {
      "image/png": "[encoded data removed]",
      "text/plain": [
       "<Figure size 360x360 with 1 Axes>"
      ]
     },
     "metadata": {},
     "output_type": "display_data"
    }
   ],
   "source": [
    "df['Category'].value_counts().plot.pie(y=df['Category'].value_counts(), figsize=(5, 5))"
   ]
  },
  {
   "cell_type": "code",
   "execution_count": 52,
   "metadata": {},
   "outputs": [
    {
     "name": "stdout",
     "output_type": "stream",
     "text": [
      "<class 'pandas.core.frame.DataFrame'>\n",
      "Int64Index: 10839 entries, 37 to 10833\n",
      "Data columns (total 15 columns):\n",
      "App               10839 non-null object\n",
      "Category          10839 non-null category\n",
      "Rating            9366 non-null float64\n",
      "Reviews           10839 non-null int32\n",
      "Size              10839 non-null float64\n",
      "Installs          10839 non-null int64\n",
      "Type              10839 non-null int64\n",
      "Price             10839 non-null object\n",
      "Content Rating    10839 non-null int8\n",
      "Genres            10839 non-null object\n",
      "Last Updated      10839 non-null object\n",
      "Current Ver       10831 non-null object\n",
      "Android Ver       10837 non-null object\n",
      "Category_code     10839 non-null int8\n",
      "success           10839 non-null int64\n",
      "dtypes: category(1), float64(2), int32(1), int64(3), int8(2), object(6)\n",
      "memory usage: 1.1+ MB\n"
     ]
    }
   ],
   "source": [
    "df['Reviews'] = df['Reviews'].astype(str).astype(int)\n",
    "df.info()"
   ]
  },
  {
   "cell_type": "code",
   "execution_count": 53,
   "metadata": {},
   "outputs": [
    {
     "data": {
      "image/png": "[encoded data removed]",
      "text/plain": [
       "<Figure size 432x288 with 2 Axes>"
      ]
     },
     "metadata": {
      "needs_background": "light"
     },
     "output_type": "display_data"
    }
   ],
   "source": [
    "corr = df[['Size','Type','Category_code','Content Rating','Rating','Reviews','success']].corr()\n",
    "ax = sns.heatmap(corr, vmin=0, vmax=1,cmap=\"YlGnBu\")"
   ]
  },
  {
   "cell_type": "markdown",
   "metadata": {},
   "source": [
    "# Run All Classification Models"
   ]
  },
  {
   "cell_type": "code",
   "execution_count": 54,
   "metadata": {},
   "outputs": [],
   "source": [
    "X = df[['Size','Type','Category_code','Content Rating',]]\n",
    "y = df['success']"
   ]
  },
  {
   "cell_type": "markdown",
   "metadata": {},
   "source": [
    "## k-Nearest Neighbors"
   ]
  },
  {
   "cell_type": "code",
   "execution_count": 55,
   "metadata": {},
   "outputs": [
    {
     "name": "stdout",
     "output_type": "stream",
     "text": [
      "              precision    recall  f1-score   support\n",
      "\n",
      "           0       1.00      0.97      0.98       842\n",
      "           1       0.86      0.92      0.89       767\n",
      "           2       0.87      0.82      0.84       558\n",
      "\n",
      "    accuracy                           0.92      2167\n",
      "   macro avg       0.91      0.90      0.91      2167\n",
      "weighted avg       0.92      0.92      0.92      2167\n",
      "\n",
      "15\n"
     ]
    },
    {
     "data": {
      "image/png": "[encoded data removed]",
      "text/plain": [
       "<Figure size 432x288 with 1 Axes>"
      ]
     },
     "metadata": {
      "needs_background": "light"
     },
     "output_type": "display_data"
    }
   ],
   "source": [
    "k_scores = []\n",
    "temp_scores = []\n",
    "k_range = list(range(1, 31))\n",
    "mx = 0\n",
    "kf = KFold(n_splits=5, random_state=42, shuffle=True)\n",
    "for k in k_range:\n",
    "    knn = KNeighborsClassifier(n_neighbors=k)\n",
    "    for train_index, test_index in kf.split(X):\n",
    "        X_train, X_test =  X[X.index.isin(train_index)], X[X.index.isin(test_index)]\n",
    "        y_train, y_test = y[y.index.isin(train_index)], y[y.index.isin(test_index)]\n",
    "        knn.fit(X_train, y_train)\n",
    "        temp_scores.append(knn.score(X_test,y_test))\n",
    "    if(np.mean(temp_scores)>mx):\n",
    "        mx = np.mean(temp_scores)\n",
    "        y_pred = knn.predict(X_test)\n",
    "    k_scores.append(np.mean(temp_scores))\n",
    "    temp_scores = []\n",
    "print(classification_report(y_test,y_pred, labels=[0, 1, 2]))\n",
    "plt.plot(k_range, k_scores)\n",
    "plt.xlabel('Value of K for KNN')\n",
    "plt.ylabel('Cross-Validated Accuracy')\n",
    "print(np.argmax(k_scores))"
   ]
  },
  {
   "cell_type": "markdown",
   "metadata": {},
   "source": [
    "## Decision Tree"
   ]
  },
  {
   "cell_type": "code",
   "execution_count": 56,
   "metadata": {
    "scrolled": true
   },
   "outputs": [
    {
     "name": "stdout",
     "output_type": "stream",
     "text": [
      "              precision    recall  f1-score   support\n",
      "\n",
      "           0       1.00      0.96      0.98       824\n",
      "           1       0.76      1.00      0.86       775\n",
      "           2       1.00      0.63      0.77       568\n",
      "\n",
      "    accuracy                           0.89      2167\n",
      "   macro avg       0.92      0.86      0.87      2167\n",
      "weighted avg       0.91      0.89      0.88      2167\n",
      "\n",
      "confusion_matrix:\n",
      "[[790  34   0]\n",
      " [  0 775   0]\n",
      " [  0 209 359]]\n",
      "              precision    recall  f1-score   support\n",
      "\n",
      "           0       1.00      0.96      0.98       815\n",
      "           1       0.74      1.00      0.85       763\n",
      "           2       1.00      0.59      0.74       590\n",
      "\n",
      "    accuracy                           0.87      2168\n",
      "   macro avg       0.91      0.85      0.86      2168\n",
      "weighted avg       0.91      0.87      0.87      2168\n",
      "\n",
      "confusion_matrix:\n",
      "[[786  29   0]\n",
      " [  0 763   0]\n",
      " [  0 243 347]]\n",
      "              precision    recall  f1-score   support\n",
      "\n",
      "           0       1.00      0.97      0.99       886\n",
      "           1       0.74      1.00      0.85       712\n",
      "           2       1.00      0.61      0.76       570\n",
      "\n",
      "    accuracy                           0.89      2168\n",
      "   macro avg       0.91      0.86      0.87      2168\n",
      "weighted avg       0.92      0.89      0.88      2168\n",
      "\n",
      "confusion_matrix:\n",
      "[[862  24   0]\n",
      " [  0 712   0]\n",
      " [  0 220 350]]\n",
      "              precision    recall  f1-score   support\n",
      "\n",
      "           0       1.00      0.97      0.99       873\n",
      "           1       0.76      1.00      0.86       749\n",
      "           2       1.00      0.61      0.76       545\n",
      "\n",
      "    accuracy                           0.89      2167\n",
      "   macro avg       0.92      0.86      0.87      2167\n",
      "weighted avg       0.92      0.89      0.89      2167\n",
      "\n",
      "confusion_matrix:\n",
      "[[848  25   0]\n",
      " [  0 749   0]\n",
      " [  0 211 334]]\n",
      "              precision    recall  f1-score   support\n",
      "\n",
      "           0       1.00      0.97      0.98       842\n",
      "           1       0.77      1.00      0.87       767\n",
      "           2       1.00      0.64      0.78       558\n",
      "\n",
      "    accuracy                           0.90      2167\n",
      "   macro avg       0.92      0.87      0.88      2167\n",
      "weighted avg       0.92      0.90      0.89      2167\n",
      "\n",
      "confusion_matrix:\n",
      "[[816  26   0]\n",
      " [  0 767   0]\n",
      " [  0 201 357]]\n",
      "avg-score:  0.8872393177092823\n"
     ]
    }
   ],
   "source": [
    "decision_tree = DecisionTreeClassifier(max_depth=4,random_state=42)\n",
    "kf = KFold(n_splits=5, random_state=42, shuffle=True)\n",
    "scores = []\n",
    "for train_index, test_index in kf.split(X):\n",
    "    X_train, X_test =  X[X.index.isin(train_index)], X[X.index.isin(test_index)]\n",
    "    y_train, y_test = y[y.index.isin(train_index)], y[y.index.isin(test_index)]\n",
    "    decision_tree.fit(X_train, y_train)\n",
    "    y_pred = decision_tree.predict(X_test)\n",
    "    print(classification_report(y_test,y_pred, labels=[0, 1, 2]))\n",
    "    print(\"confusion_matrix:\")\n",
    "    print (confusion_matrix(y_test, y_pred))\n",
    "    scores.append(decision_tree.score(X_test,y_test))\n",
    "print(\"avg-score: \",np.mean(scores))"
   ]
  },
  {
   "cell_type": "markdown",
   "metadata": {},
   "source": [
    "## Logistic Regression"
   ]
  },
  {
   "cell_type": "code",
   "execution_count": 57,
   "metadata": {},
   "outputs": [
    {
     "name": "stdout",
     "output_type": "stream",
     "text": [
      "              precision    recall  f1-score   support\n",
      "\n",
      "           0       1.00      0.00      0.01      4241\n",
      "           1       0.00      0.00      0.00      3766\n",
      "           2       0.26      1.00      0.41      2832\n",
      "\n",
      "    accuracy                           0.26     10839\n",
      "   macro avg       0.42      0.33      0.14     10839\n",
      "weighted avg       0.46      0.26      0.11     10839\n",
      "\n",
      "confusion_matrix:\n",
      "[[  14    0 4227]\n",
      " [   0    0 3766]\n",
      " [   0    0 2832]]\n",
      "0.2625703478180644\n"
     ]
    }
   ],
   "source": [
    "model = LogisticRegression(random_state=42)\n",
    "model.fit(X,y)#use \"one-vs-rest method\"\n",
    "#there is a second way called \"softmax\"(or \"multinomial\") to init the model (when we have muliclasses)\n",
    "y_pred = model.predict(X)\n",
    "print(classification_report(y,y_pred, labels=[0, 1, 2]))\n",
    "print(\"confusion_matrix:\")\n",
    "print (confusion_matrix(y, y_pred))\n",
    "print(model.score(X, y))\n",
    "#the model always pridict as class 2"
   ]
  },
  {
   "cell_type": "markdown",
   "metadata": {},
   "source": [
    "## Neural Network"
   ]
  },
  {
   "cell_type": "code",
   "execution_count": 58,
   "metadata": {},
   "outputs": [
    {
     "name": "stdout",
     "output_type": "stream",
     "text": [
      "              precision    recall  f1-score   support\n",
      "\n",
      "           0       0.39      1.00      0.56      4241\n",
      "           1       0.00      0.00      0.00      3766\n",
      "           2       0.00      0.00      0.00      2832\n",
      "\n",
      "    accuracy                           0.39     10839\n",
      "   macro avg       0.13      0.33      0.19     10839\n",
      "weighted avg       0.15      0.39      0.22     10839\n",
      "\n",
      "confusion_matrix:\n",
      "\n",
      "[[4241    0    0]\n",
      " [3766    0    0]\n",
      " [2832    0    0]]\n"
     ]
    },
    {
     "data": {
      "text/plain": [
       "0.3912722575883384"
      ]
     },
     "execution_count": 58,
     "metadata": {},
     "output_type": "execute_result"
    }
   ],
   "source": [
    "model = MLPClassifier(solver='lbfgs', alpha=1e-5,hidden_layer_sizes=(5, 2), random_state=42)\n",
    "model.fit(X, y)\n",
    "y_pred = model.predict(X)\n",
    "print(classification_report(y,y_pred, labels=[0, 1, 2]))\n",
    "print(\"confusion_matrix:\\n\")\n",
    "print (confusion_matrix(y, y_pred))\n",
    "model.score(X, y)"
   ]
  },
  {
   "cell_type": "markdown",
   "metadata": {},
   "source": [
    "## Gaussian Naive Bayes"
   ]
  },
  {
   "cell_type": "code",
   "execution_count": 59,
   "metadata": {},
   "outputs": [
    {
     "name": "stdout",
     "output_type": "stream",
     "text": [
      "              precision    recall  f1-score   support\n",
      "\n",
      "           0       0.91      0.96      0.93       824\n",
      "           1       0.74      0.90      0.81       775\n",
      "           2       1.00      0.63      0.77       568\n",
      "\n",
      "    accuracy                           0.85      2167\n",
      "   macro avg       0.88      0.83      0.84      2167\n",
      "weighted avg       0.87      0.85      0.85      2167\n",
      "\n",
      "confusion_matrix:\n",
      "[[790  34   0]\n",
      " [ 81 694   0]\n",
      " [  0 209 359]]\n",
      "              precision    recall  f1-score   support\n",
      "\n",
      "           0       0.90      0.96      0.93       815\n",
      "           1       0.71      0.88      0.79       763\n",
      "           2       1.00      0.59      0.74       590\n",
      "\n",
      "    accuracy                           0.83      2168\n",
      "   macro avg       0.87      0.81      0.82      2168\n",
      "weighted avg       0.86      0.83      0.83      2168\n",
      "\n",
      "confusion_matrix:\n",
      "[[786  29   0]\n",
      " [ 90 673   0]\n",
      " [  0 243 347]]\n",
      "              precision    recall  f1-score   support\n",
      "\n",
      "           0       0.92      0.97      0.94       886\n",
      "           1       0.72      0.89      0.80       712\n",
      "           2       1.00      0.61      0.76       570\n",
      "\n",
      "    accuracy                           0.85      2168\n",
      "   macro avg       0.88      0.83      0.83      2168\n",
      "weighted avg       0.87      0.85      0.85      2168\n",
      "\n",
      "confusion_matrix:\n",
      "[[862  24   0]\n",
      " [ 78 634   0]\n",
      " [  0 220 350]]\n",
      "              precision    recall  f1-score   support\n",
      "\n",
      "           0       0.90      0.97      0.93       873\n",
      "           1       0.74      0.87      0.80       749\n",
      "           2       1.00      0.61      0.76       545\n",
      "\n",
      "    accuracy                           0.85      2167\n",
      "   macro avg       0.88      0.82      0.83      2167\n",
      "weighted avg       0.87      0.85      0.84      2167\n",
      "\n",
      "confusion_matrix:\n",
      "[[848  25   0]\n",
      " [ 94 655   0]\n",
      " [  0 211 334]]\n",
      "              precision    recall  f1-score   support\n",
      "\n",
      "           0       0.89      0.97      0.93       842\n",
      "           1       0.75      0.87      0.80       767\n",
      "           2       1.00      0.64      0.78       558\n",
      "\n",
      "    accuracy                           0.85      2167\n",
      "   macro avg       0.88      0.82      0.84      2167\n",
      "weighted avg       0.87      0.85      0.84      2167\n",
      "\n",
      "confusion_matrix:\n",
      "[[816  26   0]\n",
      " [103 664   0]\n",
      " [  0 201 357]]\n",
      "avg-score:  0.8460835715879078\n"
     ]
    }
   ],
   "source": [
    "model = GaussianNB()\n",
    "kf = KFold(n_splits=5, random_state=42, shuffle=True)\n",
    "scores = []\n",
    "for train_index, test_index in kf.split(X):\n",
    "    X_train, X_test =  X[X.index.isin(train_index)], X[X.index.isin(test_index)]\n",
    "    y_train, y_test = y[y.index.isin(train_index)], y[y.index.isin(test_index)]\n",
    "    model.fit(X_train, y_train)\n",
    "    y_pred = model.predict(X_test)\n",
    "    print(classification_report(y_test,y_pred, labels=[0, 1, 2]))\n",
    "    print(\"confusion_matrix:\")\n",
    "    print (confusion_matrix(y_test, y_pred))\n",
    "    scores.append(model.score(X_test,y_test))\n",
    "print(\"avg-score: \",np.mean(scores))\n",
    "#we can see that the most of the mistakes is when its actual 2 and the model pridiction is 1"
   ]
  },
  {
   "cell_type": "markdown",
   "metadata": {},
   "source": [
    "## Random Forest"
   ]
  },
  {
   "cell_type": "code",
   "execution_count": 60,
   "metadata": {
    "scrolled": true
   },
   "outputs": [
    {
     "name": "stdout",
     "output_type": "stream",
     "text": [
      "confusion_matrix:\n",
      "[[1309   47    1]\n",
      " [   0 1231   13]\n",
      " [   0  349  627]]\n",
      "              precision    recall  f1-score   support\n",
      "\n",
      "           0       1.00      0.96      0.98      1357\n",
      "           1       0.76      0.99      0.86      1244\n",
      "           2       0.98      0.64      0.78       976\n",
      "\n",
      "    accuracy                           0.89      3577\n",
      "   macro avg       0.91      0.87      0.87      3577\n",
      "weighted avg       0.91      0.89      0.88      3577\n",
      "\n",
      "0    0.379368\n",
      "1    0.347777\n",
      "2    0.272854\n",
      "Name: success, dtype: float64\n",
      "\n",
      "avg-score:  0.8853788090578697\n"
     ]
    }
   ],
   "source": [
    "X_train, X_test, y_train, y_test = train_test_split(X, y, test_size=0.33, random_state=42)\n",
    "model = RandomForestClassifier(max_depth=6, random_state=42)\n",
    "model.fit(X_train, y_train)\n",
    "y_pred =  model.predict(X_test)\n",
    "print(\"confusion_matrix:\")\n",
    "print (confusion_matrix(y_test, y_pred))\n",
    "print(classification_report(y_test,y_pred, labels=[0, 1, 2]))\n",
    "print(y_test.value_counts().head(3) / len(y_test))#show that there is no majority of success type at the dataset\n",
    "print(\"\\navg-score: \",model.score(X_test,y_test))"
   ]
  },
  {
   "cell_type": "markdown",
   "metadata": {},
   "source": [
    "## SVC"
   ]
  },
  {
   "cell_type": "code",
   "execution_count": 61,
   "metadata": {},
   "outputs": [
    {
     "name": "stdout",
     "output_type": "stream",
     "text": [
      "              precision    recall  f1-score   support\n",
      "\n",
      "           0       1.00      0.97      0.98      4241\n",
      "           1       0.84      0.93      0.88      3766\n",
      "           2       0.89      0.80      0.85      2832\n",
      "\n",
      "    accuracy                           0.91     10839\n",
      "   macro avg       0.91      0.90      0.90     10839\n",
      "weighted avg       0.92      0.91      0.91     10839\n",
      "\n",
      "confusion_matrix:\n",
      "\n",
      "[[4115  101   25]\n",
      " [   9 3502  255]\n",
      " [   6  547 2279]]\n",
      "\n",
      "score:   0.9129993541839653\n"
     ]
    }
   ],
   "source": [
    "model = svm.SVC()\n",
    "model.fit(X, y)\n",
    "y_pred = model.predict(X)\n",
    "print(classification_report(y,y_pred, labels=[0, 1, 2]))\n",
    "print(\"confusion_matrix:\\n\")\n",
    "print (confusion_matrix(y, y_pred))\n",
    "print(\"\\nscore:  \",model.score(X,y))"
   ]
  },
  {
   "cell_type": "markdown",
   "metadata": {},
   "source": [
    "## AdaBoost"
   ]
  },
  {
   "cell_type": "code",
   "execution_count": 62,
   "metadata": {},
   "outputs": [
    {
     "name": "stdout",
     "output_type": "stream",
     "text": [
      "              precision    recall  f1-score   support\n",
      "\n",
      "           0       1.00      0.96      0.98      4241\n",
      "           1       0.85      0.90      0.87      3766\n",
      "           2       0.86      0.83      0.84      2832\n",
      "\n",
      "    accuracy                           0.91     10839\n",
      "   macro avg       0.90      0.90      0.90     10839\n",
      "weighted avg       0.91      0.91      0.91     10839\n",
      "\n",
      "confusion_matrix:\n",
      "[[4085  126   30]\n",
      " [   8 3392  366]\n",
      " [   0  472 2360]]\n",
      "0.9075560476058677\n"
     ]
    }
   ],
   "source": [
    "model = AdaBoostClassifier(n_estimators=100, random_state=44)\n",
    "model.fit(X, y)\n",
    "y_pred = model.predict(X)\n",
    "print(classification_report(y,y_pred, labels=[0, 1, 2]))\n",
    "print(\"confusion_matrix:\")\n",
    "print (confusion_matrix(y, y_pred))\n",
    "print(model.score(X,y))"
   ]
  },
  {
   "cell_type": "code",
   "execution_count": null,
   "metadata": {},
   "outputs": [],
   "source": []
  }
 ],
 "metadata": {
  "kernelspec": {
   "display_name": "Python 3",
   "language": "python",
   "name": "python3"
  },
  "language_info": {
   "codemirror_mode": {
    "name": "ipython",
    "version": 3
   },
   "file_extension": ".py",
   "mimetype": "text/x-python",
   "name": "python",
   "nbconvert_exporter": "python",
   "pygments_lexer": "ipython3",
   "version": "3.7.4"
  }
 },
 "nbformat": 4,
 "nbformat_minor": 2
}
